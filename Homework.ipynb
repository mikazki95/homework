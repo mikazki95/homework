{
 "cells": [
  {
   "cell_type": "markdown",
   "metadata": {},
   "source": [
    "# Práctica Clase 1 "
   ]
  },
  {
   "cell_type": "markdown",
   "metadata": {},
   "source": [
    "1) Crear una función capaz de convertir números enteros de base 10 a base 2. Debe recibir como parámetro el número a convertir<br>\n",
    "Consideraciones:<br> \n",
    "a. Tratar de resolverlo sin usar la función format(nro,\"b\")<br>\n",
    "b. El pdf \"conversion-de-decimal-a-binario.pdf\" puede servir de ayuda.\n"
   ]
  },
  {
   "cell_type": "code",
   "execution_count": 65,
   "metadata": {},
   "outputs": [],
   "source": [
    "def NumeroBinario(numero):\n",
    "    '''\n",
    "    Esta función recibe como parámetro un número entero mayor ó igual a cero y lo devuelve en su \n",
    "    representación binaria. Debe recibir y devolver un valor de tipo entero.\n",
    "    En caso de que el parámetro no sea de tipo entero o sea negativo devolver nulo.\n",
    "    '''\n",
    "    # type(numero) == int\n",
    "    if not isinstance(numero, int) or numero < 0: return None\n",
    "    if numero == 0: return 0\n",
    "\n",
    "    lista_binaria = []\n",
    "\n",
    "    while numero > 0:\n",
    "        resto = numero % 2\n",
    "        numero = numero // 2 # int(numero/2)\n",
    "        lista_binaria.append(str(resto))\n",
    "\n",
    "    lista_binaria.reverse()\n",
    "    str_binaria = ''.join(lista_binaria)\n",
    "    return int(str_binaria)"
   ]
  },
  {
   "cell_type": "code",
   "execution_count": 66,
   "metadata": {},
   "outputs": [],
   "source": [
    "NumeroBinario('10')"
   ]
  },
  {
   "cell_type": "code",
   "execution_count": 41,
   "metadata": {},
   "outputs": [
    {
     "data": {
      "text/plain": [
       "int"
      ]
     },
     "execution_count": 41,
     "metadata": {},
     "output_type": "execute_result"
    }
   ],
   "source": [
    "type(13)"
   ]
  },
  {
   "cell_type": "code",
   "execution_count": 39,
   "metadata": {},
   "outputs": [],
   "source": [
    "def NumeroBinario_v2(numero):\n",
    "    str_binaria = ''\n",
    "\n",
    "    while numero > 0:\n",
    "        resto = numero % 2\n",
    "        numero = numero // 2 # int(numero/2)\n",
    "        str_binaria = str_binaria + str(resto)\n",
    "    \n",
    "    return int(str_binaria[::-1])"
   ]
  },
  {
   "cell_type": "code",
   "execution_count": 40,
   "metadata": {},
   "outputs": [
    {
     "data": {
      "text/plain": [
       "'odnum aloh'"
      ]
     },
     "execution_count": 40,
     "metadata": {},
     "output_type": "execute_result"
    }
   ],
   "source": [
    "'hola mundo'[5:0:-1]\n",
    "'hola mundo'[::-1]"
   ]
  },
  {
   "cell_type": "code",
   "execution_count": 37,
   "metadata": {},
   "outputs": [],
   "source": [
    "def NumeroBinario_v3(numero):\n",
    "    str_binaria = ''\n",
    "\n",
    "    while numero > 0:\n",
    "        resto = numero % 2\n",
    "        numero = numero // 2 # int(numero/2)\n",
    "        str_binaria = str(resto) + str_binaria\n",
    "    \n",
    "    return int(str_binaria)"
   ]
  },
  {
   "cell_type": "code",
   "execution_count": 38,
   "metadata": {},
   "outputs": [
    {
     "data": {
      "text/plain": [
       "100"
      ]
     },
     "execution_count": 38,
     "metadata": {},
     "output_type": "execute_result"
    }
   ],
   "source": [
    "NumeroBinario_v3(4)"
   ]
  },
  {
   "cell_type": "code",
   "execution_count": null,
   "metadata": {},
   "outputs": [],
   "source": [
    "# reverse\n",
    "# [] -> str"
   ]
  },
  {
   "cell_type": "code",
   "execution_count": 20,
   "metadata": {},
   "outputs": [
    {
     "data": {
      "text/plain": [
       "'1'"
      ]
     },
     "execution_count": 20,
     "metadata": {},
     "output_type": "execute_result"
    }
   ],
   "source": [
    "# 10 = 5 * 2 + 0\n",
    "# 15 = 7 * 2 + 1"
   ]
  },
  {
   "cell_type": "code",
   "execution_count": 18,
   "metadata": {},
   "outputs": [
    {
     "data": {
      "text/plain": [
       "100"
      ]
     },
     "execution_count": 18,
     "metadata": {},
     "output_type": "execute_result"
    }
   ],
   "source": [
    "NumeroBinario(4)"
   ]
  },
  {
   "cell_type": "code",
   "execution_count": 70,
   "metadata": {},
   "outputs": [],
   "source": [
    "def transformacion_binario(numero):\n",
    "    if numero < 0: return None\n",
    "    if numero == 0: return 0\n",
    "    return transformacion_binario(numero // 2) * 10 + (numero % 2)"
   ]
  },
  {
   "cell_type": "code",
   "execution_count": 75,
   "metadata": {},
   "outputs": [
    {
     "data": {
      "text/plain": [
       "100"
      ]
     },
     "execution_count": 75,
     "metadata": {},
     "output_type": "execute_result"
    }
   ],
   "source": [
    "transformacion_binario(4)"
   ]
  },
  {
   "cell_type": "code",
   "execution_count": 87,
   "metadata": {},
   "outputs": [
    {
     "name": "stdout",
     "output_type": "stream",
     "text": [
      "0.0010018348693847656\n"
     ]
    }
   ],
   "source": [
    "import time\n",
    "tiempo_inicio = time.time()\n",
    "transformacion_binario(100000000000000000000000000000000000000000000100000000000000000000000000000000000000000000100000000000000000000000000000000000000000000100000000000000000000000000000000000000000000100000000000000000000000000000000000000000000)\n",
    "tiempo_fin = time.time()\n",
    "print(tiempo_fin - tiempo_inicio)"
   ]
  },
  {
   "cell_type": "code",
   "execution_count": 88,
   "metadata": {},
   "outputs": [
    {
     "name": "stdout",
     "output_type": "stream",
     "text": [
      "0.0010013580322265625\n"
     ]
    }
   ],
   "source": [
    "import time\n",
    "tiempo_inicio = time.time()\n",
    "NumeroBinario(100000000000000000000000000000000000000000000100000000000000000000000000000000000000000000100000000000000000000000000000000000000000000100000000000000000000000000000000000000000000100000000000000000000000000000000000000000000)\n",
    "tiempo_fin = time.time()\n",
    "print(tiempo_fin - tiempo_inicio)"
   ]
  },
  {
   "cell_type": "markdown",
   "metadata": {},
   "source": [
    "2) Convertir de decimal a binario las fracciones 1/2, 1/3, 1/4, 1/5, 1/6, 1/7, 1/8, 1/9. Luego analizar los resultados y observar qué particularidad se encuentra en los mismos. Se puede usar Python o una calculadora, lo importante es ver si hay algo que podemos notar..."
   ]
  },
  {
   "cell_type": "markdown",
   "metadata": {},
   "source": [
    "Salida esperada:\n",
    "* Fraccion 1 / 2 :  0.5  y En binario:  0.1\n",
    "* Fraccion 1 / 3 :  0.3333333333333333  y En binario:  0.010101010101010101010101\n",
    "* Fraccion 1 / 4 :  0.25  y En binario:  0.01\n",
    "* Fraccion 1 / 5 :  0.2  y En binario:  0.001100110011001100110011\n",
    "* Fraccion 1 / 6 :  0.16666666666666666  y En binario:  0.001010101010101010101010\n",
    "* Fraccion 1 / 7 :  0.14285714285714285  y En binario:  0.001001001001001001001001\n",
    "* Fraccion 1 / 8 :  0.125  y En binario:  0.001\n",
    "* Fraccion 1 / 9 :  0.1111111111111111  y En binario:  0.000111000111000111000111"
   ]
  },
  {
   "cell_type": "code",
   "execution_count": 117,
   "metadata": {},
   "outputs": [],
   "source": [
    "def NumeroBinarioFraccionario(numero_decimal, limite = 24):\n",
    "    '''\n",
    "    Se espera que numero_decimal sea un numero decimal entre 0 y 1 (sin incluir el 1)\n",
    "    '''\n",
    "    if not isinstance(numero_decimal, float): return None\n",
    "    if numero_decimal >= 1 or numero_decimal < 0: return None\n",
    "\n",
    "    str_binario = ''\n",
    "\n",
    "    while numero_decimal > 0 and limite > 0:\n",
    "        numero_decimal *= 2\n",
    "        parte_entera = int(numero_decimal)\n",
    "        numero_decimal = numero_decimal - parte_entera\n",
    "        str_binario = str_binario + str(parte_entera) # str_binario += str_binario\n",
    "        limite -= 1\n",
    "\n",
    "    return float('0.'+str_binario)"
   ]
  },
  {
   "cell_type": "code",
   "execution_count": 118,
   "metadata": {},
   "outputs": [
    {
     "ename": "TypeError",
     "evalue": "NumeroBinarioFraccionario() missing 1 required positional argument: 'limite'",
     "output_type": "error",
     "traceback": [
      "\u001b[1;31m---------------------------------------------------------------------------\u001b[0m",
      "\u001b[1;31mTypeError\u001b[0m                                 Traceback (most recent call last)",
      "\u001b[1;32mc:\\Users\\DELL\\Desktop\\Projects\\teaching\\DS-M1-main\\Clase 01\\Homework.ipynb Cell 20\u001b[0m line \u001b[0;36m1\n\u001b[1;32m----> <a href='vscode-notebook-cell:/c%3A/Users/DELL/Desktop/Projects/teaching/DS-M1-main/Clase%2001/Homework.ipynb#X10sZmlsZQ%3D%3D?line=0'>1</a>\u001b[0m NumeroBinarioFraccionario(\u001b[39m0.3125\u001b[39;49m)\n",
      "\u001b[1;31mTypeError\u001b[0m: NumeroBinarioFraccionario() missing 1 required positional argument: 'limite'"
     ]
    }
   ],
   "source": [
    "NumeroBinarioFraccionario(0.3125)"
   ]
  },
  {
   "cell_type": "code",
   "execution_count": 98,
   "metadata": {},
   "outputs": [
    {
     "data": {
      "text/plain": [
       "0.1"
      ]
     },
     "execution_count": 98,
     "metadata": {},
     "output_type": "execute_result"
    }
   ],
   "source": [
    "NumeroBinarioFraccionario(0.5,20)"
   ]
  },
  {
   "cell_type": "code",
   "execution_count": 115,
   "metadata": {},
   "outputs": [
    {
     "data": {
      "text/plain": [
       "0.0101"
      ]
     },
     "execution_count": 115,
     "metadata": {},
     "output_type": "execute_result"
    }
   ],
   "source": [
    "NumeroBinarioFraccionario(1/3,5)"
   ]
  }
 ],
 "metadata": {
  "interpreter": {
   "hash": "c85384e4cb51c8b72350f3a8712cc8351fdc3955e32a27f9b60c6242ab125f01"
  },
  "kernelspec": {
   "display_name": "Python 3.9.7 ('henry')",
   "language": "python",
   "name": "python3"
  },
  "language_info": {
   "codemirror_mode": {
    "name": "ipython",
    "version": 3
   },
   "file_extension": ".py",
   "mimetype": "text/x-python",
   "name": "python",
   "nbconvert_exporter": "python",
   "pygments_lexer": "ipython3",
   "version": "3.11.6"
  },
  "orig_nbformat": 4
 },
 "nbformat": 4,
 "nbformat_minor": 2
}
