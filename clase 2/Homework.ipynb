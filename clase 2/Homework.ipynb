{
 "cells": [
  {
   "cell_type": "markdown",
   "metadata": {},
   "source": [
    "# Práctica Clase 2"
   ]
  },
  {
   "cell_type": "markdown",
   "metadata": {},
   "source": [
    "1) Abrir el archivo \"Emisiones_CO2.csv\" y cargar sus datos en un diccionario."
   ]
  },
  {
   "cell_type": "code",
   "execution_count": 5,
   "metadata": {},
   "outputs": [
    {
     "data": {
      "text/plain": [
       "['Clase 02 - M1.pdf',\n",
       " 'Ejemplo_data.xlsx',\n",
       " 'Emisiones_CO2.csv',\n",
       " 'Homework Resuelto - Pablo R.ipynb',\n",
       " 'Homework Resuelto.ipynb',\n",
       " 'Homework Resuelto_Gonzalo.ipynb',\n",
       " 'Homework.ipynb',\n",
       " 'Homework.md',\n",
       " 'README.json',\n",
       " 'README.md']"
      ]
     },
     "execution_count": 5,
     "metadata": {},
     "output_type": "execute_result"
    }
   ],
   "source": [
    "import os\n",
    "l = os.listdir('C:/Users/DELL/Desktop/Projects/teaching/DS-M1-main/Clase 02/')\n",
    "l"
   ]
  },
  {
   "cell_type": "code",
   "execution_count": 15,
   "metadata": {},
   "outputs": [],
   "source": [
    "# archivo = open('C:/Users/DELL/Desktop/Projects/teaching/DS-M1-main/Clase 02/Emisiones_CO2.csv', 'r')\n",
    "archivo = open('Emisiones_CO2.csv', 'r') # , encoding='latin-1'"
   ]
  },
  {
   "cell_type": "code",
   "execution_count": 16,
   "metadata": {},
   "outputs": [],
   "source": [
    "dicc_emisiones = {  'cod_pais' : [],\n",
    "                    'nom_pais' : [],\n",
    "                    'region' : [],\n",
    "                    'anio' : [],\n",
    "                    'co2' : [],\n",
    "                    'co2_percapita' : []}"
   ]
  },
  {
   "cell_type": "code",
   "execution_count": 17,
   "metadata": {},
   "outputs": [],
   "source": [
    "# fila2 = 'ABW|Aruba|América Latina y Caribe|1960||'\n",
    "# fila2.split(sep='|')"
   ]
  },
  {
   "cell_type": "code",
   "execution_count": 18,
   "metadata": {},
   "outputs": [],
   "source": [
    "# encabezado = True\n",
    "# columnas = []\n",
    "# for linea in archivo:\n",
    "#     if not encabezado:\n",
    "#         campos = linea.split('|')\n",
    "#         for i,columna in enumerate(columnas):\n",
    "#             dicc_emisiones[columna].append(campos[i])\n",
    "#     else:\n",
    "#         encabezado = False\n",
    "#         columnas = linea.split('|')"
   ]
  },
  {
   "cell_type": "code",
   "execution_count": 19,
   "metadata": {},
   "outputs": [],
   "source": [
    "encabezado = True\n",
    "for linea in archivo:\n",
    "    if not encabezado:\n",
    "        campos = linea.split(sep='|')\n",
    "        dicc_emisiones['cod_pais'].append(campos[0])\n",
    "        dicc_emisiones['nom_pais'].append(campos[1])\n",
    "        dicc_emisiones['region'].append(campos[2])\n",
    "        dicc_emisiones['anio'].append(campos[3])\n",
    "        dicc_emisiones['co2'].append(campos[4])\n",
    "        dicc_emisiones['co2_percapita'].append(campos[5])\n",
    "    else:\n",
    "        encabezado = False"
   ]
  },
  {
   "cell_type": "code",
   "execution_count": 20,
   "metadata": {},
   "outputs": [],
   "source": [
    "archivo.close()"
   ]
  },
  {
   "cell_type": "markdown",
   "metadata": {},
   "source": [
    "2) a) ¿Cuántas variables hay? <br>\n",
    "b) ¿Qué tipos de datos usar para cada una? <br>\n",
    "c) ¿Qué tipo de variables son? <br>\n",
    "d) ¿Hay valores faltantes? <br>\n",
    "e) ¿Cuál es el total de emisiones de CO2 para 'América Latina y Caribe' en el año 2010?"
   ]
  },
  {
   "cell_type": "code",
   "execution_count": 40,
   "metadata": {},
   "outputs": [
    {
     "name": "stdout",
     "output_type": "stream",
     "text": [
      "40\n",
      "ABW\n",
      "Aruba\n",
      "América Latina y Caribe\n",
      "2000\n",
      "2321.21\n",
      "25,547678795\n",
      "\n"
     ]
    }
   ],
   "source": [
    "i = 40\n",
    "print(i)\n",
    "print(dicc_emisiones['cod_pais'][i])\n",
    "print(dicc_emisiones['nom_pais'][i])\n",
    "print(dicc_emisiones['region'][i])\n",
    "print(dicc_emisiones['anio'][i])\n",
    "print(dicc_emisiones['co2'][i])\n",
    "print(dicc_emisiones['co2_percapita'][i])"
   ]
  },
  {
   "cell_type": "code",
   "execution_count": 36,
   "metadata": {},
   "outputs": [],
   "source": [
    "# Preprocesamiento\n",
    "for indice, elemento in enumerate(dicc_emisiones['co2']):\n",
    "    elemento = elemento.replace('.','')\n",
    "    elemento = elemento.replace(',','.')\n",
    "    if elemento != '':\n",
    "        elemento = float(elemento)\n",
    "    else:\n",
    "        elemento = None\n",
    "    dicc_emisiones['co2'][indice] = elemento"
   ]
  },
  {
   "cell_type": "code",
   "execution_count": 41,
   "metadata": {},
   "outputs": [
    {
     "data": {
      "text/plain": [
       "11127"
      ]
     },
     "execution_count": 41,
     "metadata": {},
     "output_type": "execute_result"
    }
   ],
   "source": [
    "numero_filas = len(dicc_emisiones['region'])\n",
    "numero_filas"
   ]
  },
  {
   "cell_type": "code",
   "execution_count": 44,
   "metadata": {},
   "outputs": [
    {
     "name": "stdout",
     "output_type": "stream",
     "text": [
      "1691634.8009999995\n"
     ]
    }
   ],
   "source": [
    "# Calculo que nos piden\n",
    "filtro_region = 'América Latina y Caribe'\n",
    "filtro_anio = '2010'\n",
    "suma = 0\n",
    "\n",
    "for indice in range(numero_filas):\n",
    "    if dicc_emisiones['region'][indice] == filtro_region:\n",
    "        if dicc_emisiones['anio'][indice] == filtro_anio:\n",
    "            if dicc_emisiones['co2'][indice] is not None:\n",
    "                suma = suma + dicc_emisiones['co2'][indice]\n",
    "print(suma)"
   ]
  },
  {
   "cell_type": "code",
   "execution_count": 52,
   "metadata": {},
   "outputs": [
    {
     "name": "stdout",
     "output_type": "stream",
     "text": [
      "1691634.8009999995\n"
     ]
    }
   ],
   "source": [
    "# Calculo que nos piden\n",
    "filtro_region = 'América Latina y Caribe'\n",
    "filtro_anio = '2010'\n",
    "suma = 0\n",
    "\n",
    "for indice in range(numero_filas):\n",
    "    if dicc_emisiones['region'][indice] == filtro_region and \\\n",
    "        dicc_emisiones['anio'][indice] == filtro_anio and \\\n",
    "            dicc_emisiones['co2'][indice] is not None:\n",
    "        suma = suma + dicc_emisiones['co2'][indice]\n",
    "print(suma)"
   ]
  },
  {
   "cell_type": "code",
   "execution_count": 46,
   "metadata": {},
   "outputs": [
    {
     "data": {
      "text/plain": [
       "'Hola mundo'"
      ]
     },
     "execution_count": 46,
     "metadata": {},
     "output_type": "execute_result"
    }
   ],
   "source": [
    "'   Hola mundo  '.strip()"
   ]
  }
 ],
 "metadata": {
  "kernelspec": {
   "display_name": "Python 3.10.5 64-bit",
   "language": "python",
   "name": "python3"
  },
  "language_info": {
   "codemirror_mode": {
    "name": "ipython",
    "version": 3
   },
   "file_extension": ".py",
   "mimetype": "text/x-python",
   "name": "python",
   "nbconvert_exporter": "python",
   "pygments_lexer": "ipython3",
   "version": "3.11.6"
  },
  "orig_nbformat": 4,
  "vscode": {
   "interpreter": {
    "hash": "bb63a77499ed5899fffa71b49f0fc3f4df2c625891c3993c985b13a523c87e61"
   }
  }
 },
 "nbformat": 4,
 "nbformat_minor": 2
}
